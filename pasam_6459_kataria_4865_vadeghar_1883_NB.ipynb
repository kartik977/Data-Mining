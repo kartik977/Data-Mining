{
 "cells": [
  {
   "cell_type": "markdown",
   "metadata": {},
   "source": [
    "# Assignment 2\n",
    "## Naive Bayes Classifier"
   ]
  },
  {
   "cell_type": "markdown",
   "metadata": {},
   "source": [
    "## Student Details (1 Point)\n",
    "\n",
    "First Student Name and ID: Venkata Sravanthi Pasam 1001856459 <br>\n",
    "Second Student Name and ID: Kartik Kataria 1001944865 <br>\n",
    "Third Student Name and ID: Suraj Pawar Vadeghar 1002021883\n",
    "\n",
    "\n",
    "\n",
    "Notes: When submitting, fill your name and ID in this cell.  [1 point]\n",
    "\n",
    "Make sure to write about any 4-5 line to explain any kind of visualization\n",
    "\n",
    "Do not to forget to cite any external sources used by you."
   ]
  },
  {
   "cell_type": "markdown",
   "metadata": {},
   "source": [
    "# Remeber to cite any external sources here"
   ]
  },
  {
   "cell_type": "markdown",
   "metadata": {},
   "source": [
    "# Naive Bayes-\n",
    "\n",
    "## Programming Assignment Details-\n",
    "\n",
    "## Preprocessing-\n",
    "You have textual data that you cannot feed into the model. Therefore, you need to extract features from the text (email) and transform the data. There are techniques to do so, such as Bag of Words, n-grams, Tf-Idf, Word2Vec, CountVectorizer, and many others.\n",
    "\n",
    "## The Model-\n",
    "Test train split, using 80% for training, rest for testing. Next you will need to train NB model(Gausian) for classification.\n",
    "\n",
    "Create the model using training data, predict on the test data, and get the accuracy, plot the confusion matrix.\n",
    "\n",
    "## Metrics to report- \n",
    "You will need to report-\n",
    "1. Accuracy Score(metrics.accuracy_score)\n",
    "2. Confusion Matrix(metrics.confusion_matrix) plotted graphically(It needs to be in the final jupyter file which you submit)\n",
    "\n",
    "## Answer the following questions-\n",
    "Do not include too much information, it has to be consise. Just your student ids, and the necessary info.\n",
    "1. Briefly explain your approach, any preprocessing, explain the output, any visualisation for explanation, in same jupyter file. (3-4 paragraphs max)\n",
    "\n",
    "## Grading-\n",
    "1. (30 pts) Loading and preprocessing of the data.\n",
    "2. (30 pts) Creation of correct model(NB), with decent metrics, plotting confusion matrix.\n",
    "3. (30 pts) Explaining the approach, also explain the(if any) preprocessor which you used.\n",
    "4. (7 pts) Neatly presented code, with comments, correctly named files, complete report section, and followed the UTA code of conduct.\n",
    "\n",
    "## Programming Assignment Submission Instructions (2 Points)\n",
    "Each file should be submitted separately, do not compress them, only one student submits.\n",
    "\n",
    "Format of file naming:\n",
    "\n",
    "NB-\n",
    "'yourLastName_Last4digitsofyourID_NB.ipynb' (Report in markdown cells and code in code cells of Notebook preferred)\n",
    "\n",
    "## What to submit-\n",
    "1. Jupyter files(.ipynb)"
   ]
  },
  {
   "cell_type": "code",
   "execution_count": 68,
   "metadata": {},
   "outputs": [],
   "source": [
    "import pandas as pd\n",
    "from sklearn.model_selection import train_test_split\n",
    "from sklearn import metrics\n",
    "from sklearn.naive_bayes import GaussianNB\n",
    "import pandas as pd\n",
    "\n",
    "from sklearn.metrics import confusion_matrix\n",
    "from sklearn.metrics import ConfusionMatrixDisplay\n",
    "from sklearn.metrics import classification_report\n",
    "import matplotlib.pyplot as plt\n",
    "\n",
    "# Any other relevant import for feature extraction\n",
    "from sklearn.metrics import accuracy_score\n",
    "import seaborn as sns\n",
    "\n",
    "#For feature extraction we are using CountVectorizer library\n",
    "from sklearn.feature_extraction.text import CountVectorizer\n",
    "import re\n",
    "import string\n"
   ]
  },
  {
   "cell_type": "code",
   "execution_count": null,
   "metadata": {},
   "outputs": [],
   "source": []
  },
  {
   "cell_type": "code",
   "execution_count": 69,
   "metadata": {},
   "outputs": [],
   "source": [
    "# Preprocess\n",
    "\n",
    "#Reading NB dataset\n",
    "nb_df=pd.read_csv('dataset_NB.csv')\n",
    "\n",
    "#Removing null values\n",
    "enriched_nb_df=nb_df[nb_df['email'].notna()]\n",
    "\n",
    "#storing Label(independent variable) to y \n",
    "y=enriched_nb_df['label']\n",
    "\n",
    "# Vecotrizing X using feature extraction method - CountVectorizer\n",
    "def vectorize_x(enriched_nb_df):\n",
    "\n",
    "    vc = CountVectorizer()\n",
    "    X = vc.fit_transform(enriched_nb_df['email'])\n",
    "    return X\n",
    "# transformed_df = pd.DataFrame(X.toarray(), columns=vc.get_feature_names())\n",
    "# transformed_df"
   ]
  },
  {
   "cell_type": "code",
   "execution_count": 70,
   "metadata": {},
   "outputs": [],
   "source": [
    "#GNB Model which splits , trains and plots the metrics - accuracy and confusion matrix\n",
    "\n",
    "def GNB_Model(X,y):\n",
    "    \n",
    "    # train_test_split\n",
    "\n",
    "    X_train, X_test, y_train, y_test = train_test_split(X, y, test_size=0.2, random_state=12)\n",
    "    gnaive_bayes = GaussianNB()\n",
    "    \n",
    "    #Training Data using NB instance\n",
    "    gnaive_bayes.fit(X_train.toarray(), y_train)\n",
    "    \n",
    "    #Predicting using the trained model\n",
    "    y_pred = gnaive_bayes.predict(X_test.toarray())\n",
    "    \n",
    "    # Metrics and plots\n",
    "    accuracy = accuracy_score(y_test, y_pred)\n",
    "    confusn_matrx = confusion_matrix(y_test, y_pred)\n",
    "    print(f\" Accuracy is - {accuracy}\\n\")\n",
    "\n",
    "    print(\"\\n Confusion matrix - \")\n",
    "    sns.heatmap(confusn_matrx, cmap='magma', fmt='g',annot=True)\n",
    "    plt.xlabel('Predicted')\n",
    "    plt.ylabel('Actual')\n",
    "    plt.show()"
   ]
  },
  {
   "cell_type": "code",
   "execution_count": 71,
   "metadata": {},
   "outputs": [],
   "source": [
    "#Calling vecotirze function on refined_df\n",
    "\n",
    "X=vectorize_x(enriched_nb_df)\n"
   ]
  },
  {
   "cell_type": "code",
   "execution_count": null,
   "metadata": {},
   "outputs": [],
   "source": []
  },
  {
   "cell_type": "code",
   "execution_count": 72,
   "metadata": {},
   "outputs": [
    {
     "name": "stdout",
     "output_type": "stream",
     "text": [
      " Accuracy is - 0.9416666666666667\n",
      "\n",
      "\n",
      " Confusion matrix - \n"
     ]
    },
    {
     "data": {
      "image/png": "[encoded data removed]",
      "text/plain": [
       "<Figure size 432x288 with 2 Axes>"
      ]
     },
     "metadata": {
      "needs_background": "light"
     },
     "output_type": "display_data"
    }
   ],
   "source": [
    "#Calling GNB_Model function on vectorized input (dependent) variable\n",
    "\n",
    "GNB_Model(X,y)"
   ]
  },
  {
   "cell_type": "code",
   "execution_count": null,
   "metadata": {},
   "outputs": [],
   "source": []
  },
  {
   "cell_type": "code",
   "execution_count": 73,
   "metadata": {},
   "outputs": [],
   "source": [
    "# Extra - Can you do better?\n",
    "\n",
    "# https://www.geeksforgeeks.org/python-lemmatization-with-nltk/\n",
    "\n",
    "from nltk.stem import WordNetLemmatizer"
   ]
  },
  {
   "cell_type": "code",
   "execution_count": 74,
   "metadata": {
    "collapsed": true
   },
   "outputs": [
    {
     "name": "stderr",
     "output_type": "stream",
     "text": [
      "/var/folders/81/yfl66q1s6cb619bncv6tnbl80000gn/T/ipykernel_74458/3947450247.py:3: SettingWithCopyWarning: \n",
      "A value is trying to be set on a copy of a slice from a DataFrame.\n",
      "Try using .loc[row_indexer,col_indexer] = value instead\n",
      "\n",
      "See the caveats in the documentation: https://pandas.pydata.org/pandas-docs/stable/user_guide/indexing.html#returning-a-view-versus-a-copy\n",
      "  enriched_nb_df['email'] = enriched_nb_df['email'].apply(lambda dat: ' '.join([lm.lemmatize(x) for x in dat.split()]))\n"
     ]
    }
   ],
   "source": [
    "\n",
    "lm = WordNetLemmatizer()\n",
    "\n",
    "enriched_nb_df['email'] = enriched_nb_df['email'].apply(lambda dat: ' '.join([lm.lemmatize(x) for x in dat.split()]))\n"
   ]
  },
  {
   "cell_type": "code",
   "execution_count": 75,
   "metadata": {},
   "outputs": [],
   "source": [
    "X3=vectorize_x(enriched_nb_df)\n"
   ]
  },
  {
   "cell_type": "code",
   "execution_count": 76,
   "metadata": {
    "scrolled": true
   },
   "outputs": [
    {
     "name": "stdout",
     "output_type": "stream",
     "text": [
      " Accuracy is - 0.9416666666666667\n",
      "\n",
      "\n",
      " Confusion matrix - \n"
     ]
    },
    {
     "data": {
      "image/png": "[encoded data removed]",
      "text/plain": [
       "<Figure size 432x288 with 2 Axes>"
      ]
     },
     "metadata": {
      "needs_background": "light"
     },
     "output_type": "display_data"
    }
   ],
   "source": [
    "GNB_Model(X3,y)"
   ]
  },
  {
   "cell_type": "markdown",
   "metadata": {},
   "source": [
    "# WordNetLemmatizer\n",
    "\n",
    "WordNetLemmatizer determines the base form of any word given and reduces it dimensionality which helps in improving the accuracy and thereby reducing complexity.\n",
    "\n",
    "In the above confusion matrix the overall accuracy is same as previous but if you observe the false negative they have gone down and false positive in increased. This is acceptable in scenarios such as patient disease prediction where a false negative may be dangerous but a false positive is acceptable and doesnt endanger the life of the patient,"
   ]
  },
  {
   "cell_type": "markdown",
   "metadata": {},
   "source": [
    "### Team contribution\n",
    "\n",
    "Kartik Kataria : Worked on the Nearest Neighbor classifier part of the assignment\n",
    "\n",
    "Pasam Venkata Sravanthi : Focused on the Decision Tree classifier\n",
    "\n",
    "Suraj Pawar Vadeghar : Dealt with Naive Bayes classifier in the assignment."
   ]
  },
  {
   "cell_type": "code",
   "execution_count": null,
   "metadata": {},
   "outputs": [],
   "source": []
  }
 ],
 "metadata": {
  "kernelspec": {
   "display_name": "Python 3 (ipykernel)",
   "language": "python",
   "name": "python3"
  },
  "language_info": {
   "codemirror_mode": {
    "name": "ipython",
    "version": 3
   },
   "file_extension": ".py",
   "mimetype": "text/x-python",
   "name": "python",
   "nbconvert_exporter": "python",
   "pygments_lexer": "ipython3",
   "version": "3.9.7"
  },
  "vscode": {
   "interpreter": {
    "hash": "3405992a48275e07086f2eda395b3e07105689753999f083f9af1c7b0bb06650"
   }
  }
 },
 "nbformat": 4,
 "nbformat_minor": 2
}
